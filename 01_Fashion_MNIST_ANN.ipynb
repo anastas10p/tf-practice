{
 "nbformat": 4,
 "nbformat_minor": 0,
 "metadata": {
  "colab": {
   "name": "Building an Artificial Neural Network in TensorFlow 2.0.ipynb",
   "provenance": [],
   "collapsed_sections": []
  },
  "kernelspec": {
   "name": "python3",
   "display_name": "Python 3"
  },
  "accelerator": "GPU"
 },
 "cells": [
  {
   "cell_type": "markdown",
   "source": [
    "## Part 0: Importing dependencies"
   ],
   "metadata": {
    "collapsed": false
   }
  },
  {
   "cell_type": "code",
   "metadata": {
    "id": "yt0-hrch6rZw",
    "colab": {
     "base_uri": "https://localhost:8080/",
     "height": 34
    },
    "outputId": "a6871186-96f1-4d9d-f8a3-249359b41b50"
   },
   "source": [
    "import tensorflow as tf\n",
    "from tensorflow.keras.datasets import fashion_mnist"
   ],
   "execution_count": 20,
   "outputs": []
  },
  {
   "cell_type": "markdown",
   "source": [
    "### Show the installed version of tensorflow"
   ],
   "metadata": {
    "collapsed": false
   }
  },
  {
   "cell_type": "code",
   "metadata": {
    "id": "_vv9AXUnZW78",
    "colab": {
     "base_uri": "https://localhost:8080/",
     "height": 34
    },
    "outputId": "34463753-ec43-4cb7-c9e5-54489b75cd95"
   },
   "source": [
    "tf.__version__"
   ],
   "execution_count": 21,
   "outputs": [
    {
     "data": {
      "text/plain": "'2.6.2'"
     },
     "execution_count": 21,
     "metadata": {},
     "output_type": "execute_result"
    }
   ]
  },
  {
   "cell_type": "markdown",
   "source": [
    "## Part 1: Data preprocessing\n",
    "\n",
    "### Load the fashion mnist dataset into train and test data"
   ],
   "metadata": {
    "collapsed": false
   }
  },
  {
   "cell_type": "code",
   "metadata": {
    "id": "-lCgz6UC8pKT",
    "colab": {
     "base_uri": "https://localhost:8080/",
     "height": 176
    },
    "outputId": "679fdb24-c18b-482b-9fce-540a1a20288c"
   },
   "source": [
    "#Loading the Fashion Mnist dataset\n",
    "(X_train, y_train), (X_test, y_test) = fashion_mnist.load_data()"
   ],
   "execution_count": 22,
   "outputs": []
  },
  {
   "cell_type": "markdown",
   "metadata": {
    "id": "AYxeEHzDXdSs"
   },
   "source": [
    "### Image normalization\n",
    "\n",
    "Each image in both training and testing dataset is divided by the number of pixels (255).\n",
    "This brings all values between 0 and 1, ensuring faster training"
   ]
  },
  {
   "cell_type": "code",
   "metadata": {
    "id": "zvWzsB3G9IU8"
   },
   "source": [
    "X_train = X_train / 255.0\n",
    "X_test = X_test / 255.0"
   ],
   "execution_count": 23,
   "outputs": []
  },
  {
   "cell_type": "markdown",
   "metadata": {
    "id": "uBacLmGIX0Es"
   },
   "source": [
    "### Dataset reshaping\n",
    "\n",
    "The data needs to be reshaped into a vector format in order to be used with the fully connected neural network."
   ]
  },
  {
   "cell_type": "code",
   "metadata": {
    "id": "2Tao7pom-grn"
   },
   "source": [
    "#Since each image is 28x28, we simply use reshape the full dataset to [-1 (all elements), height * width]\n",
    "X_train = X_train.reshape(-1, 28*28) # -1 to reshape the full dataset, height*width\n",
    "X_test = X_test.reshape(-1, 28*28)\n",
    "X_train.shape"
   ],
   "execution_count": 24,
   "outputs": [
    {
     "data": {
      "text/plain": "(60000, 784)"
     },
     "execution_count": 24,
     "metadata": {},
     "output_type": "execute_result"
    }
   ]
  },
  {
   "cell_type": "markdown",
   "metadata": {
    "id": "x5aDsaYSYmXD"
   },
   "source": [
    "## Part 2: Build the Artificial Neural network\n",
    "### Defining the model\n",
    "\n",
    "For this exercise I use a simple sequantial neural network.\n",
    "More complex examples will come at later exercises."
   ]
  },
  {
   "cell_type": "code",
   "metadata": {
    "id": "xmfogzmn9kqv"
   },
   "source": [
    "model = tf.keras.models.Sequential()"
   ],
   "execution_count": 25,
   "outputs": []
  },
  {
   "cell_type": "markdown",
   "metadata": {
    "id": "TNzLOAK5Y-mR"
   },
   "source": [
    "### First layer (Dense layer)\n",
    "\n",
    "I start with the following hyper-parameters:\n",
    "- number of neurons: 128\n",
    "- activation function: Rectivied Linear Unit\n",
    "- input shape: (784, ) (The shape of X_ )"
   ]
  },
  {
   "cell_type": "code",
   "metadata": {
    "id": "GBsfDyGE-FX5"
   },
   "source": [
    "model.add(tf.keras.layers.Dense(units=128, activation='relu', input_shape=(784, )))"
   ],
   "execution_count": 26,
   "outputs": []
  },
  {
   "cell_type": "markdown",
   "metadata": {
    "id": "Vwqx1wZUa1rH"
   },
   "source": [
    "### Add a Dropout layer\n",
    "\n",
    "Dropout is a Regularization technique, where neurons in a layer are randomly set to zero, which means they are not updated.\n",
    "This results in a smaller chance for overfitting.\n",
    "For an example see [the tensorflow tutorial for over- and underfitting](https://www.tensorflow.org/tutorials/keras/overfit_and_underfit#add_dropout)\n",
    "Following the tensorflow tutorial, I set the dropout rate to 0.2."
   ]
  },
  {
   "cell_type": "code",
   "metadata": {
    "id": "tAmpLPlr-pOX"
   },
   "source": [
    "model.add(tf.keras.layers.Dropout(0.2))"
   ],
   "execution_count": 27,
   "outputs": []
  },
  {
   "cell_type": "markdown",
   "metadata": {
    "id": "BGqvyDvNbzwN"
   },
   "source": [
    "### Add the output layer\n",
    "\n",
    "- number of neurons: 10 (10 possible classes in Fashion MNIST)\n",
    "- activation function = 'softmax'"
   ]
  },
  {
   "cell_type": "code",
   "metadata": {
    "id": "OmkUuF9Y-3mG"
   },
   "source": [
    "model.add(tf.keras.layers.Dense(units=10, activation='softmax'))"
   ],
   "execution_count": 28,
   "outputs": []
  },
  {
   "cell_type": "markdown",
   "metadata": {
    "id": "2rRsMjsvcOua"
   },
   "source": [
    "### Compile the model\n",
    "\n",
    "- Optimizer: Adam\n",
    "- Loss function: Sparse softmax (categorical) crossentropy\n",
    "\n",
    "I went with the Adam optimizer, since it is better than simple SGD.\n",
    "For more information see [this](https://www.usenix.org/system/files/conference/osdi14/osdi14-paper-chilimbi.pdf) and [this](https://arxiv.org/abs/1412.6980)"
   ]
  },
  {
   "cell_type": "code",
   "metadata": {
    "id": "nbW3xeRK_CrN"
   },
   "source": [
    "model.compile(optimizer='adam', loss='sparse_categorical_crossentropy', metrics=['sparse_categorical_accuracy'])"
   ],
   "execution_count": 29,
   "outputs": []
  },
  {
   "cell_type": "markdown",
   "source": [
    "### Show the model's architecture"
   ],
   "metadata": {
    "collapsed": false
   }
  },
  {
   "cell_type": "code",
   "execution_count": 30,
   "outputs": [
    {
     "name": "stdout",
     "output_type": "stream",
     "text": [
      "Model: \"sequential_2\"\n",
      "_________________________________________________________________\n",
      "Layer (type)                 Output Shape              Param #   \n",
      "=================================================================\n",
      "dense_2 (Dense)              (None, 128)               100480    \n",
      "_________________________________________________________________\n",
      "dropout_1 (Dropout)          (None, 128)               0         \n",
      "_________________________________________________________________\n",
      "dense_3 (Dense)              (None, 10)                1290      \n",
      "=================================================================\n",
      "Total params: 101,770\n",
      "Trainable params: 101,770\n",
      "Non-trainable params: 0\n",
      "_________________________________________________________________\n"
     ]
    }
   ],
   "source": [
    "model.summary()"
   ],
   "metadata": {
    "collapsed": false,
    "pycharm": {
     "name": "#%%\n"
    }
   }
  },
  {
   "cell_type": "markdown",
   "metadata": {
    "id": "9kxIIFU1cany"
   },
   "source": [
    "## Part 3: Train the model\n",
    "\n",
    "### I stayed at only 5 epochs"
   ]
  },
  {
   "cell_type": "code",
   "metadata": {
    "id": "s-_oLiE0_3A2",
    "colab": {
     "base_uri": "https://localhost:8080/",
     "height": 208
    },
    "outputId": "9fb2fda4-f52d-4662-d3f5-16bb0d071904"
   },
   "source": [
    "model.fit(X_train, y_train, epochs=5)"
   ],
   "execution_count": 31,
   "outputs": [
    {
     "name": "stdout",
     "output_type": "stream",
     "text": [
      "Epoch 1/5\n",
      "1875/1875 [==============================] - 6s 3ms/step - loss: 0.5332 - sparse_categorical_accuracy: 0.8108\n",
      "Epoch 2/5\n",
      "1875/1875 [==============================] - 5s 3ms/step - loss: 0.4022 - sparse_categorical_accuracy: 0.8541\n",
      "Epoch 3/5\n",
      "1875/1875 [==============================] - 5s 3ms/step - loss: 0.3662 - sparse_categorical_accuracy: 0.8658\n",
      "Epoch 4/5\n",
      "1875/1875 [==============================] - 5s 3ms/step - loss: 0.3462 - sparse_categorical_accuracy: 0.8727\n",
      "Epoch 5/5\n",
      "1875/1875 [==============================] - 5s 3ms/step - loss: 0.3303 - sparse_categorical_accuracy: 0.8790\n"
     ]
    },
    {
     "data": {
      "text/plain": "<keras.callbacks.History at 0x7fb79235af60>"
     },
     "execution_count": 31,
     "metadata": {},
     "output_type": "execute_result"
    }
   ]
  },
  {
   "cell_type": "markdown",
   "metadata": {
    "id": "mj23nxmtcrhd"
   },
   "source": [
    "### Evaluate the network on the test data"
   ]
  },
  {
   "cell_type": "code",
   "metadata": {
    "id": "-nQCioOmAL7i",
    "colab": {
     "base_uri": "https://localhost:8080/",
     "height": 34
    },
    "outputId": "b277b331-a05f-494f-e283-4e8db20b8819"
   },
   "source": [
    "test_loss, test_accuracy = model.evaluate(X_test, y_test)\n",
    "print(\"Test accuracy: {}\".format(test_accuracy))"
   ],
   "execution_count": 32,
   "outputs": [
    {
     "name": "stdout",
     "output_type": "stream",
     "text": [
      "313/313 [==============================] - 1s 2ms/step - loss: 0.3476 - sparse_categorical_accuracy: 0.8759\n",
      "Test accuracy: 0.8758999705314636\n"
     ]
    }
   ]
  },
  {
   "cell_type": "markdown",
   "metadata": {
    "id": "Noi53-uq9yhl"
   },
   "source": [
    "## Part 4 : Save the model\n",
    "\n",
    "Since training can take a while for larger models/datasets, saving the network (sometimes during training) is important."
   ]
  },
  {
   "cell_type": "markdown",
   "metadata": {
    "id": "eMFm-Z9I99R5"
   },
   "source": [
    "### Save the architecture of the network as .json"
   ]
  },
  {
   "cell_type": "code",
   "metadata": {
    "id": "pT7pmXWO9xxM"
   },
   "source": [
    "model_json = model.to_json()\n",
    "with open(\"01_fashion_model.json\", \"w\") as json_file:\n",
    "    json_file.write(model_json)"
   ],
   "execution_count": 37,
   "outputs": []
  },
  {
   "cell_type": "markdown",
   "metadata": {
    "id": "5UDk8L4A-CQX"
   },
   "source": [
    "### Save the network weights"
   ]
  },
  {
   "cell_type": "code",
   "metadata": {
    "id": "R0ZOVcC498Mp"
   },
   "source": [
    "model.save_weights(\"01_fashion_model.h5\")"
   ],
   "execution_count": 38,
   "outputs": []
  }
 ]
}