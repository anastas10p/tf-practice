{
 "nbformat": 4,
 "nbformat_minor": 0,
 "metadata": {
  "colab": {
   "name": "Building an Artificial Neural Network in TensorFlow 2.0.ipynb",
   "provenance": [],
   "collapsed_sections": []
  },
  "kernelspec": {
   "name": "python3",
   "display_name": "Python 3"
  },
  "accelerator": "GPU"
 },
 "cells": [
  {
   "cell_type": "markdown",
   "source": [
    "## Part 0: Importing dependencies"
   ],
   "metadata": {
    "collapsed": false
   }
  },
  {
   "cell_type": "code",
   "metadata": {
    "id": "yt0-hrch6rZw",
    "colab": {
     "base_uri": "https://localhost:8080/",
     "height": 34
    },
    "outputId": "a6871186-96f1-4d9d-f8a3-249359b41b50"
   },
   "source": [
    "import numpy as np\n",
    "import datetime\n",
    "import tensorflow as tf\n",
    "from tensorflow.keras.datasets import fashion_mnist"
   ],
   "execution_count": 1,
   "outputs": []
  },
  {
   "cell_type": "markdown",
   "source": [
    "### Show the installed version of tensorflow"
   ],
   "metadata": {
    "collapsed": false
   }
  },
  {
   "cell_type": "code",
   "metadata": {
    "id": "_vv9AXUnZW78",
    "colab": {
     "base_uri": "https://localhost:8080/",
     "height": 34
    },
    "outputId": "34463753-ec43-4cb7-c9e5-54489b75cd95"
   },
   "source": [
    "tf.__version__"
   ],
   "execution_count": 2,
   "outputs": [
    {
     "data": {
      "text/plain": "'2.6.2'"
     },
     "execution_count": 2,
     "metadata": {},
     "output_type": "execute_result"
    }
   ]
  },
  {
   "cell_type": "markdown",
   "source": [
    "## Part 1: Data preprocessing\n",
    "\n",
    "### Load the fashion mnist dataset into train and test data"
   ],
   "metadata": {
    "collapsed": false
   }
  },
  {
   "cell_type": "code",
   "metadata": {
    "id": "-lCgz6UC8pKT",
    "colab": {
     "base_uri": "https://localhost:8080/",
     "height": 176
    },
    "outputId": "679fdb24-c18b-482b-9fce-540a1a20288c"
   },
   "source": [
    "#Loading the Fashion Mnist dataset\n",
    "(X_train, y_train), (X_test, y_test) = fashion_mnist.load_data()"
   ],
   "execution_count": 3,
   "outputs": [
    {
     "name": "stdout",
     "output_type": "stream",
     "text": [
      "Downloading data from https://storage.googleapis.com/tensorflow/tf-keras-datasets/train-labels-idx1-ubyte.gz\n",
      "32768/29515 [=================================] - 0s 4us/step\n",
      "40960/29515 [=========================================] - 0s 3us/step\n",
      "Downloading data from https://storage.googleapis.com/tensorflow/tf-keras-datasets/train-images-idx3-ubyte.gz\n",
      "26427392/26421880 [==============================] - 34s 1us/step\n",
      "26435584/26421880 [==============================] - 34s 1us/step\n",
      "Downloading data from https://storage.googleapis.com/tensorflow/tf-keras-datasets/t10k-labels-idx1-ubyte.gz\n",
      "16384/5148 [===============================================================================================] - 0s 0us/step\n",
      "Downloading data from https://storage.googleapis.com/tensorflow/tf-keras-datasets/t10k-images-idx3-ubyte.gz\n",
      "4423680/4422102 [==============================] - 9s 2us/step\n",
      "4431872/4422102 [==============================] - 9s 2us/step\n"
     ]
    }
   ]
  },
  {
   "cell_type": "markdown",
   "metadata": {
    "id": "AYxeEHzDXdSs"
   },
   "source": [
    "### Image normalization\n",
    "\n",
    "Each image in both training and testing dataset is divided by the number of pixels (255).\n",
    "This brings all values between 0 and 1, ensuring faster training"
   ]
  },
  {
   "cell_type": "code",
   "metadata": {
    "id": "zvWzsB3G9IU8"
   },
   "source": [
    "X_train = X_train / 255.0\n",
    "X_test = X_test / 255.0"
   ],
   "execution_count": 5,
   "outputs": []
  },
  {
   "cell_type": "markdown",
   "metadata": {
    "id": "uBacLmGIX0Es"
   },
   "source": [
    "### Dataset reshaping\n",
    "\n",
    "The data needs to be reshaped into a vector format in order to be used with the fully connected neural network."
   ]
  },
  {
   "cell_type": "code",
   "metadata": {
    "id": "2Tao7pom-grn"
   },
   "source": [
    "#Since each image is 28x28, we simply use reshape the full dataset to [-1 (all elements), height * width]\n",
    "X_train = X_train.reshape(-1, 28*28) # -1 to reshape the full dataset, height*width\n",
    "X_test = X_test.reshape(-1, 28*28)\n",
    "X_train.shape"
   ],
   "execution_count": 6,
   "outputs": [
    {
     "data": {
      "text/plain": "(60000, 784)"
     },
     "execution_count": 6,
     "metadata": {},
     "output_type": "execute_result"
    }
   ]
  },
  {
   "cell_type": "markdown",
   "metadata": {
    "id": "x5aDsaYSYmXD"
   },
   "source": [
    "## Part 2: Build the Artificial Neural network\n",
    "### Defining the model\n",
    "\n",
    "For this exercise I use a simple sequantial neural network.\n",
    "More complex examples will come at later exercises."
   ]
  },
  {
   "cell_type": "code",
   "metadata": {
    "id": "xmfogzmn9kqv"
   },
   "source": [
    "model = tf.keras.models.Sequential()"
   ],
   "execution_count": 8,
   "outputs": []
  },
  {
   "cell_type": "markdown",
   "metadata": {
    "id": "TNzLOAK5Y-mR"
   },
   "source": [
    "### First layer (Dense layer)\n",
    "\n",
    "I start with the following hyper-parameters:\n",
    "- number of neurons: 128\n",
    "- activation function: Rectivied Linear Unit\n",
    "- input shape: (784, ) (The shape of X_ )"
   ]
  },
  {
   "cell_type": "code",
   "metadata": {
    "id": "GBsfDyGE-FX5"
   },
   "source": [
    "model.add(tf.keras.layers.Dense(units=128, activation='relu', input_shape=(784, )))"
   ],
   "execution_count": 9,
   "outputs": []
  },
  {
   "cell_type": "markdown",
   "metadata": {
    "id": "Vwqx1wZUa1rH"
   },
   "source": [
    "### Add a Dropout layer\n",
    "\n",
    "Dropout is a Regularization technique, where neurons in a layer are randomly set to zero, which means they are not updated.\n",
    "This results in a smaller chance for overfitting.\n",
    "For an example see [the tensorflow tutorial for over- and underfitting](https://www.tensorflow.org/tutorials/keras/overfit_and_underfit#add_dropout)\n",
    "Following the tensorflow tutorial, I set the dropout rate to 0.2."
   ]
  },
  {
   "cell_type": "code",
   "metadata": {
    "id": "tAmpLPlr-pOX"
   },
   "source": [
    "model.add(tf.keras.layers.Dropout(0.2))"
   ],
   "execution_count": 10,
   "outputs": []
  },
  {
   "cell_type": "markdown",
   "metadata": {
    "id": "BGqvyDvNbzwN"
   },
   "source": [
    "### Add the output layer\n",
    "\n",
    "- number of neurons: 10 (10 possible classes in Fashion MNIST)\n",
    "- activation function = 'softmax'"
   ]
  },
  {
   "cell_type": "code",
   "metadata": {
    "id": "OmkUuF9Y-3mG"
   },
   "source": [
    "model.add(tf.keras.layers.Dense(units=10, activation='softmax'))"
   ],
   "execution_count": 11,
   "outputs": []
  },
  {
   "cell_type": "markdown",
   "metadata": {
    "id": "2rRsMjsvcOua"
   },
   "source": [
    "### Compile the model\n",
    "\n",
    "- Optimizer: Adam\n",
    "- Loss function: Sparse softmax (categorical) crossentropy\n",
    "\n",
    "I went with the Adam optimizer, since it is better than simple SGD.\n",
    "For more information see [this](https://www.usenix.org/system/files/conference/osdi14/osdi14-paper-chilimbi.pdf) and [this](https://arxiv.org/abs/1412.6980)"
   ]
  },
  {
   "cell_type": "code",
   "metadata": {
    "id": "nbW3xeRK_CrN"
   },
   "source": [
    "model.compile(optimizer='adam', loss='sparse_categorical_crossentropy', metrics=['sparse_categorical_accuracy'])"
   ],
   "execution_count": 12,
   "outputs": []
  },
  {
   "cell_type": "markdown",
   "source": [
    "### Show the model's architecture"
   ],
   "metadata": {
    "collapsed": false
   }
  },
  {
   "cell_type": "code",
   "execution_count": 13,
   "outputs": [
    {
     "name": "stdout",
     "output_type": "stream",
     "text": [
      "Model: \"sequential_1\"\n",
      "_________________________________________________________________\n",
      "Layer (type)                 Output Shape              Param #   \n",
      "=================================================================\n",
      "dense (Dense)                (None, 128)               100480    \n",
      "_________________________________________________________________\n",
      "dropout (Dropout)            (None, 128)               0         \n",
      "_________________________________________________________________\n",
      "dense_1 (Dense)              (None, 10)                1290      \n",
      "=================================================================\n",
      "Total params: 101,770\n",
      "Trainable params: 101,770\n",
      "Non-trainable params: 0\n",
      "_________________________________________________________________\n"
     ]
    }
   ],
   "source": [
    "model.summary()"
   ],
   "metadata": {
    "collapsed": false,
    "pycharm": {
     "name": "#%%\n"
    }
   }
  },
  {
   "cell_type": "markdown",
   "metadata": {
    "id": "9kxIIFU1cany"
   },
   "source": [
    "## Part 3: Train the model\n",
    "\n",
    "### I stayed at only 5 epochs"
   ]
  },
  {
   "cell_type": "code",
   "metadata": {
    "id": "s-_oLiE0_3A2",
    "colab": {
     "base_uri": "https://localhost:8080/",
     "height": 208
    },
    "outputId": "9fb2fda4-f52d-4662-d3f5-16bb0d071904"
   },
   "source": [
    "model.fit(X_train, y_train, epochs=5)"
   ],
   "execution_count": 14,
   "outputs": [
    {
     "name": "stdout",
     "output_type": "stream",
     "text": [
      "Epoch 1/5\n",
      "1875/1875 [==============================] - 8s 3ms/step - loss: 0.5327 - sparse_categorical_accuracy: 0.8126\n",
      "Epoch 2/5\n",
      "1875/1875 [==============================] - 5s 3ms/step - loss: 0.4038 - sparse_categorical_accuracy: 0.8538\n",
      "Epoch 3/5\n",
      "1875/1875 [==============================] - 5s 3ms/step - loss: 0.3704 - sparse_categorical_accuracy: 0.8649\n",
      "Epoch 4/5\n",
      "1875/1875 [==============================] - 5s 3ms/step - loss: 0.3516 - sparse_categorical_accuracy: 0.8709\n",
      "Epoch 5/5\n",
      "1875/1875 [==============================] - 5s 3ms/step - loss: 0.3336 - sparse_categorical_accuracy: 0.8769\n"
     ]
    },
    {
     "data": {
      "text/plain": "<keras.callbacks.History at 0x7fb7e8e61b38>"
     },
     "execution_count": 14,
     "metadata": {},
     "output_type": "execute_result"
    }
   ]
  },
  {
   "cell_type": "markdown",
   "metadata": {
    "id": "mj23nxmtcrhd"
   },
   "source": [
    "### Evaluate the network on the test data"
   ]
  },
  {
   "cell_type": "code",
   "metadata": {
    "id": "-nQCioOmAL7i",
    "colab": {
     "base_uri": "https://localhost:8080/",
     "height": 34
    },
    "outputId": "b277b331-a05f-494f-e283-4e8db20b8819"
   },
   "source": [
    "test_loss, test_accuracy = model.evaluate(X_test, y_test)\n",
    "print(\"Test accuracy: {}\".format(test_accuracy))"
   ],
   "execution_count": 19,
   "outputs": [
    {
     "name": "stdout",
     "output_type": "stream",
     "text": [
      "313/313 [==============================] - 1s 2ms/step - loss: 0.3641 - sparse_categorical_accuracy: 0.8686\n",
      "Test accuracy: 0.8686000108718872\n"
     ]
    }
   ]
  },
  {
   "cell_type": "markdown",
   "metadata": {
    "id": "Noi53-uq9yhl"
   },
   "source": [
    "## Part 4 : Save the model\n",
    "\n",
    "Since training can take a while for larger models/datasets, saving the network (sometimes during training) is important."
   ]
  },
  {
   "cell_type": "markdown",
   "metadata": {
    "id": "eMFm-Z9I99R5"
   },
   "source": [
    "### Save the architecture of the network as .json"
   ]
  },
  {
   "cell_type": "code",
   "metadata": {
    "id": "pT7pmXWO9xxM"
   },
   "source": [
    "model_json = model.to_json()\n",
    "with open(\"fashion_model.json\", \"w\") as json_file:\n",
    "    json_file.write(model_json)"
   ],
   "execution_count": 17,
   "outputs": []
  },
  {
   "cell_type": "markdown",
   "metadata": {
    "id": "5UDk8L4A-CQX"
   },
   "source": [
    "### Save the network weights"
   ]
  },
  {
   "cell_type": "code",
   "metadata": {
    "id": "R0ZOVcC498Mp"
   },
   "source": [
    "model.save_weights(\"fashion_model.h5\")"
   ],
   "execution_count": 18,
   "outputs": []
  }
 ]
}