{
 "nbformat": 4,
 "nbformat_minor": 0,
 "metadata": {
  "colab": {
   "name": "Building a Convolutional Neural Network in TensorFlow 2.0 .ipynb",
   "provenance": [],
   "collapsed_sections": []
  },
  "kernelspec": {
   "name": "python3",
   "display_name": "Python 3"
  },
  "accelerator": "GPU"
 },
 "cells": [
  {
   "cell_type": "markdown",
   "metadata": {
    "id": "lRHFdNYAfWKJ"
   },
   "source": [
    "## Part 0: Importing dependencies"
   ]
  },
  {
   "cell_type": "code",
   "metadata": {
    "id": "tS5xFeQwe9Xu",
    "colab": {
     "base_uri": "https://localhost:8080/",
     "height": 34
    },
    "outputId": "9aacd236-4553-4a05-999d-aca4b83913b1"
   },
   "source": [
    "import tensorflow as tf\n",
    "import matplotlib.pyplot as plt\n",
    "\n",
    "%matplotlib inline\n",
    "tf.__version__"
   ],
   "execution_count": 1,
   "outputs": [
    {
     "data": {
      "text/plain": "'2.6.2'"
     },
     "execution_count": 1,
     "metadata": {},
     "output_type": "execute_result"
    }
   ]
  },
  {
   "cell_type": "markdown",
   "metadata": {
    "id": "e8zYubaPfy-S"
   },
   "source": [
    "## Part 1: Data preprocessing\n",
    "\n",
    "### Load the Cifar10 dataset"
   ]
  },
  {
   "cell_type": "code",
   "metadata": {
    "id": "f13-8-m_fqKP",
    "colab": {
     "base_uri": "https://localhost:8080/",
     "height": 52
    },
    "outputId": "f782a5f1-7778-4138-c647-877b2d48e878"
   },
   "source": [
    "(X_train, y_train), (X_test, y_test) = tf.keras.datasets.cifar10.load_data()"
   ],
   "execution_count": 2,
   "outputs": []
  },
  {
   "cell_type": "code",
   "execution_count": 3,
   "outputs": [],
   "source": [
    "#Setting class names for the output\n",
    "class_names = ['airplane', 'automobile', 'bird', 'cat', 'deer', 'dog', 'frog', 'horse', 'ship', 'truck']"
   ],
   "metadata": {
    "collapsed": false,
    "pycharm": {
     "name": "#%%\n"
    }
   }
  },
  {
   "cell_type": "markdown",
   "metadata": {
    "id": "XqDIpsJWgUkz"
   },
   "source": [
    "### Image normalization\n",
    "\n",
    "Just like with fashion_MNIST, each datapoint is divided by the number of pixels"
   ]
  },
  {
   "cell_type": "code",
   "metadata": {
    "id": "-QFncPlpgNmU"
   },
   "source": [
    "X_train = X_train / 255.0\n",
    "X_test = X_test / 255.0"
   ],
   "execution_count": 4,
   "outputs": []
  },
  {
   "cell_type": "markdown",
   "source": [
    "There is no need to reshape the data this time, since it is fed to a CNN."
   ],
   "metadata": {
    "collapsed": false,
    "pycharm": {
     "name": "#%% md\n"
    }
   }
  },
  {
   "cell_type": "code",
   "metadata": {
    "id": "L1rFHX67gc6G",
    "colab": {
     "base_uri": "https://localhost:8080/",
     "height": 34
    },
    "outputId": "5342e459-6431-4e70-c7c9-6dd332bb650c"
   },
   "source": [
    "X_train.shape"
   ],
   "execution_count": 5,
   "outputs": [
    {
     "data": {
      "text/plain": "(50000, 32, 32, 3)"
     },
     "execution_count": 5,
     "metadata": {},
     "output_type": "execute_result"
    }
   ]
  },
  {
   "cell_type": "markdown",
   "source": [
    "Let's see an image"
   ],
   "metadata": {
    "collapsed": false
   }
  },
  {
   "cell_type": "code",
   "metadata": {
    "id": "7jwvNZ82gh9d",
    "colab": {
     "base_uri": "https://localhost:8080/",
     "height": 286
    },
    "outputId": "db6d0be2-de1f-4c2b-8b8d-c4aaba462b62"
   },
   "source": [
    "plt.imshow(X_test[106])"
   ],
   "execution_count": 6,
   "outputs": [
    {
     "data": {
      "text/plain": "<matplotlib.image.AxesImage at 0x7fce7d93f5f8>"
     },
     "execution_count": 6,
     "metadata": {},
     "output_type": "execute_result"
    },
    {
     "data": {
      "text/plain": "<Figure size 432x288 with 1 Axes>",
      "image/png": "[encoded data removed]"
     },
     "metadata": {
      "needs_background": "light"
     },
     "output_type": "display_data"
    }
   ]
  },
  {
   "cell_type": "markdown",
   "metadata": {
    "id": "HXiuZulIguyf"
   },
   "source": [
    "## Part 2: Build the Convolutional neural network\n",
    "### Defining the model\n",
    "\n",
    "Here, a convolutional neural network is used. It is still a Sequential model.\n",
    "The model consists of two parts: a convolutional and a \"simple\" one.\n",
    "The convolutional part uses convolutional and max pooling layers, and the simple part uses only dense layers.\n",
    "To transition between the two parts, the tensors are flattened using a flattening layer."
   ]
  },
  {
   "cell_type": "code",
   "metadata": {
    "id": "1TR0JGP5gq2i"
   },
   "source": [
    "model = tf.keras.models.Sequential()"
   ],
   "execution_count": 7,
   "outputs": []
  },
  {
   "cell_type": "markdown",
   "metadata": {
    "id": "j92d4FE0hTZV"
   },
   "source": [
    "### First Layer (Convolutional)\n",
    "\n",
    "CNN layer hyper-parameters:\n",
    "- filters: 32 the number of convolutions used\n",
    "- kernel_size:3 the kernel size of each filter\n",
    "- activation function: relu\n",
    "- input_shape: (32, 32, 3) Images of 32 by 32 pixels of 3 channels\n"
   ]
  },
  {
   "cell_type": "code",
   "metadata": {
    "id": "LSkL1iOvg_dE"
   },
   "source": [
    "model.add(tf.keras.layers.Conv2D(filters=32, kernel_size=3, activation=\"relu\", input_shape=[32, 32, 3]))"
   ],
   "execution_count": 8,
   "outputs": []
  },
  {
   "cell_type": "markdown",
   "metadata": {
    "id": "gfRAaRmWiSlZ"
   },
   "source": [
    "### The second convolutional layer\n",
    "\n",
    "CNN layer hyper-parameters:\n",
    "- filters: 32\n",
    "- kernel_size:3\n",
    "- padding: same\n",
    "- activation function: relu\n",
    "\n"
   ]
  },
  {
   "cell_type": "code",
   "metadata": {
    "id": "sSl7Es5yidMp"
   },
   "source": [
    "model.add(tf.keras.layers.Conv2D(filters=32, kernel_size=3, activation=\"relu\"))"
   ],
   "execution_count": 9,
   "outputs": []
  },
  {
   "cell_type": "markdown",
   "source": [
    "### The max pooling layer\n",
    "MaxPool layer hyper-parameters:\n",
    "- pool_size: 2\n",
    "- strides: 2"
   ],
   "metadata": {
    "collapsed": false
   }
  },
  {
   "cell_type": "code",
   "metadata": {
    "id": "wmP9h5wliAR6"
   },
   "source": [
    "model.add(tf.keras.layers.MaxPool2D(pool_size=2, strides=2))"
   ],
   "execution_count": 10,
   "outputs": []
  },
  {
   "cell_type": "markdown",
   "metadata": {
    "id": "wd8ERDyvin-0"
   },
   "source": [
    "### The third layer\n",
    "\n",
    "CNN layer hyper-parameters:\n",
    "\n",
    "-    filters: 64\n",
    " -   kernel_size:3\n",
    "  -  activation: relu"
   ]
  },
  {
   "cell_type": "code",
   "metadata": {
    "id": "i9HWy6aFixEw"
   },
   "source": [
    "model.add(tf.keras.layers.Conv2D(filters=64, kernel_size=3, activation=\"relu\"))"
   ],
   "execution_count": 11,
   "outputs": []
  },
  {
   "cell_type": "markdown",
   "metadata": {
    "id": "O55kyOQGi44V"
   },
   "source": [
    "###  The fourth CNN Layer and the second max pool layer\n",
    "\n",
    "CNN layer hyper-parameters:\n",
    "\n",
    "-    filters: 64\n",
    " -   kernel_size:3\n",
    "  -  activation: relu\n",
    "\n",
    "MaxPool layer hyper-parameters:\n",
    "\n",
    "   - pool_size: 2\n",
    "   - strides: 2"
   ]
  },
  {
   "cell_type": "code",
   "metadata": {
    "id": "5b7vAuhjjCF2"
   },
   "source": [
    "model.add(tf.keras.layers.Conv2D(filters=64, kernel_size=3, padding=\"same\", activation=\"relu\"))\n",
    "model.add(tf.keras.layers.MaxPool2D(pool_size=2, strides=2, padding='valid'))"
   ],
   "execution_count": 12,
   "outputs": []
  },
  {
   "cell_type": "markdown",
   "metadata": {
    "id": "-hGnR3aXjKbZ"
   },
   "source": [
    "### The Flatten layer\n",
    "\n",
    "The flatten layer flattens its tensor input to a vector."
   ]
  },
  {
   "cell_type": "code",
   "metadata": {
    "id": "QLzu2cCVjI5Z"
   },
   "source": [
    "model.add(tf.keras.layers.Flatten())"
   ],
   "execution_count": 13,
   "outputs": []
  },
  {
   "cell_type": "markdown",
   "metadata": {
    "id": "GpeRUvVWjR1W"
   },
   "source": [
    "### Add the first Dense layer\n",
    "\n",
    "Once the convolutional part of the network is done, the data is flattened and fed to the dense part of the network.\n",
    "Dense layer hyper-parameters:\n",
    "- neurons: 128\n",
    "- activation: relu"
   ]
  },
  {
   "cell_type": "code",
   "metadata": {
    "id": "FWzYY8kKjhnZ"
   },
   "source": [
    "model.add(tf.keras.layers.Dense(units=128, activation='relu'))"
   ],
   "execution_count": 14,
   "outputs": []
  },
  {
   "cell_type": "markdown",
   "metadata": {
    "id": "UaakKTqRjrkF"
   },
   "source": [
    "### Adding the output layer (Dense)\n",
    "\n",
    "Dense layer hyper-parameters:\n",
    "\n",
    " - units/neurons: 10 (number of classes)\n",
    " - activation: softmax\n"
   ]
  },
  {
   "cell_type": "code",
   "metadata": {
    "id": "4t-JmzRvjnBj"
   },
   "source": [
    "model.add(tf.keras.layers.Dense(units=10, activation='softmax'))"
   ],
   "execution_count": 15,
   "outputs": []
  },
  {
   "cell_type": "markdown",
   "source": [
    "## Show the model's architecture"
   ],
   "metadata": {
    "collapsed": false
   }
  },
  {
   "cell_type": "code",
   "metadata": {
    "id": "aRr3bCU-ti06",
    "colab": {
     "base_uri": "https://localhost:8080/",
     "height": 469
    },
    "outputId": "8c18a1c8-5607-4b12-c549-787e721e4a6f"
   },
   "source": [
    "model.summary()"
   ],
   "execution_count": 16,
   "outputs": [
    {
     "name": "stdout",
     "output_type": "stream",
     "text": [
      "Model: \"sequential\"\n",
      "_________________________________________________________________\n",
      "Layer (type)                 Output Shape              Param #   \n",
      "=================================================================\n",
      "conv2d (Conv2D)              (None, 30, 30, 32)        896       \n",
      "_________________________________________________________________\n",
      "conv2d_1 (Conv2D)            (None, 28, 28, 32)        9248      \n",
      "_________________________________________________________________\n",
      "max_pooling2d (MaxPooling2D) (None, 14, 14, 32)        0         \n",
      "_________________________________________________________________\n",
      "conv2d_2 (Conv2D)            (None, 12, 12, 64)        18496     \n",
      "_________________________________________________________________\n",
      "conv2d_3 (Conv2D)            (None, 12, 12, 64)        36928     \n",
      "_________________________________________________________________\n",
      "max_pooling2d_1 (MaxPooling2 (None, 6, 6, 64)          0         \n",
      "_________________________________________________________________\n",
      "flatten (Flatten)            (None, 2304)              0         \n",
      "_________________________________________________________________\n",
      "dense (Dense)                (None, 128)               295040    \n",
      "_________________________________________________________________\n",
      "dense_1 (Dense)              (None, 10)                1290      \n",
      "=================================================================\n",
      "Total params: 361,898\n",
      "Trainable params: 361,898\n",
      "Non-trainable params: 0\n",
      "_________________________________________________________________\n"
     ]
    }
   ]
  },
  {
   "cell_type": "markdown",
   "metadata": {
    "id": "DYgvbNihtprw"
   },
   "source": [
    "### Compile the model\n",
    "\n",
    "- Optimizer: Adam\n",
    "- Loss function: Sparse softmax (categorical) crossentropy\n",
    "\n",
    "Similar to the fashion MNIST model"
   ]
  },
  {
   "cell_type": "code",
   "metadata": {
    "id": "oYHELxz4tsa-"
   },
   "source": [
    "model.compile(loss=\"sparse_categorical_crossentropy\",\n",
    "              optimizer=\"Adam\", metrics=[\"sparse_categorical_accuracy\"])"
   ],
   "execution_count": 17,
   "outputs": []
  },
  {
   "cell_type": "markdown",
   "metadata": {
    "id": "Gox3SmwUtwgX"
   },
   "source": [
    "## Part 3: Train the model\n",
    "\n",
    "#### Again, only 5 epochs, since achieving accuracy is not the purpose of these exercises"
   ]
  },
  {
   "cell_type": "code",
   "metadata": {
    "id": "D3MHvRYKe9fN",
    "colab": {
     "base_uri": "https://localhost:8080/",
     "height": 208
    },
    "outputId": "39dbc848-9a88-4663-a09b-f7469a25b9b4"
   },
   "source": [
    "model.fit(X_train, y_train, epochs=3)"
   ],
   "execution_count": 18,
   "outputs": [
    {
     "name": "stdout",
     "output_type": "stream",
     "text": [
      "Epoch 1/3\n",
      "1563/1563 [==============================] - 176s 111ms/step - loss: 1.4010 - sparse_categorical_accuracy: 0.4934\n",
      "Epoch 2/3\n",
      "1563/1563 [==============================] - 190s 121ms/step - loss: 0.9524 - sparse_categorical_accuracy: 0.6657\n",
      "Epoch 3/3\n",
      "1563/1563 [==============================] - 189s 121ms/step - loss: 0.7758 - sparse_categorical_accuracy: 0.7282\n"
     ]
    },
    {
     "data": {
      "text/plain": "<keras.callbacks.History at 0x7fcd91713b00>"
     },
     "execution_count": 18,
     "metadata": {},
     "output_type": "execute_result"
    }
   ]
  },
  {
   "cell_type": "markdown",
   "metadata": {
    "id": "D8C7Pm0NuOrJ"
   },
   "source": [
    "### Evaluate the model on the test data"
   ]
  },
  {
   "cell_type": "code",
   "metadata": {
    "id": "Z9r8TtNet3D0",
    "colab": {
     "base_uri": "https://localhost:8080/",
     "height": 34
    },
    "outputId": "c09abc05-5b1b-4208-f654-09c24c9914d8"
   },
   "source": [
    "test_loss, test_accuracy = model.evaluate(X_test, y_test)\n",
    "print(\"Test accuracy: {}\".format(test_accuracy))"
   ],
   "execution_count": 19,
   "outputs": [
    {
     "name": "stdout",
     "output_type": "stream",
     "text": [
      "313/313 [==============================] - 11s 34ms/step - loss: 0.7895 - sparse_categorical_accuracy: 0.7240\n",
      "Test accuracy: 0.7239999771118164\n"
     ]
    }
   ]
  },
  {
   "cell_type": "markdown",
   "metadata": {
    "id": "VSKfLqi5urEh",
    "pycharm": {
     "name": "#%% md\n"
    }
   },
   "source": [
    "## Part 4: Save the model\n",
    "\n",
    "### Save the architecture of the network as .json"
   ]
  },
  {
   "cell_type": "code",
   "execution_count": 21,
   "outputs": [],
   "source": [
    "model_json = model.to_json()\n",
    "with open(\"02_cifar10_model.json\", \"w\") as json_file:\n",
    "    json_file.write(model_json)"
   ],
   "metadata": {
    "collapsed": false,
    "pycharm": {
     "name": "#%%\n"
    }
   }
  },
  {
   "cell_type": "markdown",
   "source": [
    "### Save the network weights"
   ],
   "metadata": {
    "collapsed": false
   }
  },
  {
   "cell_type": "code",
   "execution_count": 22,
   "outputs": [],
   "source": [
    "model.save_weights(\"02_cifar10_model.h5\")"
   ],
   "metadata": {
    "collapsed": false,
    "pycharm": {
     "name": "#%%\n"
    }
   }
  }
 ]
}